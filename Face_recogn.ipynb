{
 "cells": [
  {
   "cell_type": "code",
   "execution_count": 1,
   "metadata": {
    "collapsed": true
   },
   "outputs": [],
   "source": [
    "import cv2\n",
    "import create_csv\n",
    "import pandas as pd\n",
    "import numpy as np\n",
    "\n",
    "\n",
    "test_img = 'test.jpg'\n",
    "faceCascade = cv2.CascadeClassifier('haarcascade_face.xml')\n",
    "\n",
    "def train():\n",
    "\t\n",
    "\t# Create 'train_faces.csv', which contains the images and their corresponding labels\n",
    "\tcreate_csv.create()\n",
    "\t\n",
    "\t# Face Recognizer using Linear Binary Pattern Histogram Algo\n",
    "\tface_recognizer = cv2.face.createLBPHFaceRecognizer()\n",
    "\t\n",
    "\t# Read csv file using pandas\n",
    "\tdata = pd.read_csv('train_faces.csv').values\n",
    "\t\n",
    "\timages=[]\n",
    "\tlabels=[]\n",
    "\t\n",
    "\tfor ix in range(data.shape[0]):\n",
    "\t\t\n",
    "\t\timg = cv2.imread(data[ix][0])\n",
    "\t\tgray = cv2.cvtColor(img,cv2.COLOR_BGR2GRAY)\n",
    "\t\timages.append(gray)\n",
    "\t\tlabels.append(data[ix][1])\n",
    "\t\n",
    "\tface_recognizer.train(images,np.array(labels))\n",
    "\treturn face_recognizer\n",
    "\t\n",
    "\t\n",
    "def test(test_img, face_recognizer):\n",
    "\t\n",
    "\timage = cv2.imread(test_img)\n",
    "\tgray = cv2.cvtColor(image,cv2.COLOR_BGR2GRAY)\n",
    "\t\n",
    "\tfaces = faceCascade.detectMultiScale(gray,scaleFactor=1.1,minNeighbors=5,minSize=(30, 30),flags = 0)\n",
    "\t\n",
    "\tfor (x, y, w, h) in faces:\n",
    "\t\t\n",
    "\t\tsub_img = gray[y:y+h,x:x+w]\n",
    "\t\tcv2.rectangle(image, (x, y), (x+w, y+h), (0, 255, 0), 2)\n",
    "\t\t\n",
    "\t\t# Predict label of detected face\n",
    "\t\tpred_label = face_recognizer.predict(gray)\n",
    "\t\t\n",
    "\t\tcv2.putText(image,str(pred_label),(x,y-5), cv2.FONT_HERSHEY_PLAIN, 2,(0,255,0),1)\n",
    "\t\tcv2.imshow('Face Recognition',image)\n",
    "\t\t# Press Esc to Close Window\n",
    "\t\tcv2.waitKey(0)\n",
    "\t\n",
    "\n",
    "if __name__ == '__main__':\n",
    "\tface_recog = train()\n",
    "\ttest(test_img, face_recog)\n",
    "    "
   ]
  },
  {
   "cell_type": "code",
   "execution_count": null,
   "metadata": {
    "collapsed": true
   },
   "outputs": [],
   "source": []
  },
  {
   "cell_type": "code",
   "execution_count": null,
   "metadata": {
    "collapsed": true
   },
   "outputs": [],
   "source": []
  }
 ],
 "metadata": {
  "kernelspec": {
   "display_name": "Python 3",
   "language": "python",
   "name": "python3"
  },
  "language_info": {
   "codemirror_mode": {
    "name": "ipython",
    "version": 3
   },
   "file_extension": ".py",
   "mimetype": "text/x-python",
   "name": "python",
   "nbconvert_exporter": "python",
   "pygments_lexer": "ipython3",
   "version": "3.6.0"
  }
 },
 "nbformat": 4,
 "nbformat_minor": 2
}
